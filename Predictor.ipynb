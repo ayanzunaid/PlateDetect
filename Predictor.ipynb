{
 "cells": [
  {
   "cell_type": "code",
   "execution_count": 1,
   "metadata": {
    "collapsed": false
   },
   "outputs": [
    {
     "name": "stderr",
     "output_type": "stream",
     "text": [
      "Using TensorFlow backend.\n"
     ]
    }
   ],
   "source": [
    "###LOAD MODEL AND WEIGHTS\n",
    "from keras.models import model_from_json\n",
    "import os\n",
    "import glob\n",
    "from PIL import Image\n",
    "import numpy as np\n",
    "from keras.models import Sequential\n",
    "from keras.layers import Conv2D, MaxPooling2D\n",
    "from keras.layers import Activation, Dropout, Flatten, Dense\n",
    "from matplotlib import image\n",
    "from matplotlib import pyplot\n",
    "path = \"F:/PlateDetect\"\n",
    "os.chdir(path)\n",
    "json_file = open('plate_detect_CNN.json', 'r')\n",
    "loaded_model_json = json_file.read()\n",
    "json_file.close()\n",
    "loaded_model = model_from_json(loaded_model_json)\n",
    "# load weights into new model\n",
    "loaded_model.load_weights(\"plate_detect_CNN_weights.h5\")"
   ]
  },
  {
   "cell_type": "code",
   "execution_count": 12,
   "metadata": {
    "collapsed": false
   },
   "outputs": [],
   "source": [
    "## LOAD TEST IMAGE\n",
    "## load image of your choice and resize to 512x512\n",
    "\n",
    "from keras.models import model_from_json\n",
    "import os\n",
    "import glob\n",
    "from PIL import Image\n",
    "import numpy as np\n",
    "from keras.models import Sequential\n",
    "from keras.layers import Conv2D, MaxPooling2D\n",
    "from keras.layers import Activation, Dropout, Flatten, Dense\n",
    "from matplotlib import image\n",
    "from matplotlib import pyplot\n",
    "im = Image.open(\"usimages/usimages/car-22.jpg\")\n",
    "im = im.resize((512,512))\n",
    "data = np.asarray(im).copy()"
   ]
  },
  {
   "cell_type": "code",
   "execution_count": 15,
   "metadata": {
    "collapsed": false
   },
   "outputs": [
    {
     "name": "stdout",
     "output_type": "stream",
     "text": [
      "0\n",
      "10\n",
      "20\n",
      "30\n",
      "40\n",
      "50\n",
      "60\n",
      "70\n",
      "80\n",
      "90\n",
      "100\n",
      "110\n",
      "120\n",
      "130\n",
      "140\n",
      "150\n",
      "160\n",
      "170\n",
      "180\n",
      "190\n",
      "200\n",
      "210\n",
      "220\n",
      "230\n",
      "240\n",
      "250\n",
      "260\n",
      "270\n",
      "280\n",
      "290\n",
      "300\n",
      "310\n",
      "320\n",
      "330\n",
      "340\n"
     ]
    }
   ],
   "source": [
    "###RUN SLIDING WINDOW\n",
    "\n",
    "def sliding_window(im , w , h , stride):\n",
    "    M = im.size[1]\n",
    "    N = im.size[0]\n",
    "    ans = []\n",
    "    i = 0\n",
    "    while i < (M - h + 1):\n",
    "        print(i)\n",
    "        j = 0\n",
    "        \n",
    "        while j < (N - w + 1):\n",
    "            conf  = loaded_model.predict(np.asarray(im.crop((j,i,j+w,i+h)).resize((100,50))).reshape(1,50,100,3))\n",
    "            if conf > 0.98 :\n",
    "                ans.append((i,j,i+h,j+w))\n",
    "                \n",
    "            j+=stride\n",
    "                \n",
    "        i+=stride\n",
    "    return ans\n",
    "ans  = sliding_window(im , 200 , 67 , 10)\n"
   ]
  },
  {
   "cell_type": "code",
   "execution_count": 16,
   "metadata": {
    "collapsed": true
   },
   "outputs": [],
   "source": [
    "#### OUTPUT\n",
    "for rr in ans:\n",
    "    data[rr[0]:rr[2],rr[1]-1:rr[1]+1 , :] = [255.0 , 0.0 , 0.0]\n",
    "    data[rr[0]:rr[2],rr[3]-1:rr[3]+1 , :] = [255.0 , 0.0 , 0.0]\n",
    "    \n",
    "    data[rr[0]-1:rr[0]+1,rr[1]:rr[3] , :] = [255.0 ,0.0 , 0.0]\n",
    "    data[rr[2]-1:rr[2]+1,rr[1]:rr[3] , :] = [255.0,0.0,0.0]\n",
    "    \n",
    "pyplot.imshow(data)\n",
    "pyplot.show()"
   ]
  },
  {
   "cell_type": "code",
   "execution_count": null,
   "metadata": {
    "collapsed": true
   },
   "outputs": [],
   "source": []
  }
 ],
 "metadata": {
  "kernelspec": {
   "display_name": "Python [Anaconda3]",
   "language": "python",
   "name": "Python [Anaconda3]"
  },
  "language_info": {
   "codemirror_mode": {
    "name": "ipython",
    "version": 3
   },
   "file_extension": ".py",
   "mimetype": "text/x-python",
   "name": "python",
   "nbconvert_exporter": "python",
   "pygments_lexer": "ipython3",
   "version": "3.5.2"
  }
 },
 "nbformat": 4,
 "nbformat_minor": 0
}
